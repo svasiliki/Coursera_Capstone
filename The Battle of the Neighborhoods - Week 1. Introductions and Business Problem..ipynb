{
 "cells": [
  {
   "cell_type": "markdown",
   "metadata": {},
   "source": [
    "# Introduction/Business Problem"
   ]
  },
  {
   "cell_type": "markdown",
   "metadata": {},
   "source": [
    "## The Battle of the Neighborhoods - Week 1"
   ]
  },
  {
   "cell_type": "markdown",
   "metadata": {},
   "source": [
    "## Problem Background:"
   ]
  },
  {
   "cell_type": "markdown",
   "metadata": {},
   "source": [
    "The City of New York, is the most popular city in the United States. It is diversed and it's the financial capital of USA. It provides lots of business oppourtunities and business friendly environment. It has attracted many different players into the market. It is a global hub of business and commerce. The city is avery important center for banking and finance, retailing, world trade, transportation, tourism, real estate, new media, traditional media, advertising, legal services, accountancy, insurance, theater in the United States.\n",
    "\n",
    "This also means that the market is highly competitive. As it is highly developed city so th cost of  business is also one of the highest. Moreover , any of new business venture or expansion needs to be analysed carefully. The insights from analysis will give an expected  understanding of the business environment which  strategically targeting the market. This will help in reduction of risk and of course the Return on Investment will be reasonable."
   ]
  },
  {
   "cell_type": "markdown",
   "metadata": {},
   "source": [
    "## Problem Discription:"
   ]
  },
  {
   "cell_type": "markdown",
   "metadata": {},
   "source": [
    "A restaurant is a place which prepares and serves food and drink to customers in return for money. The City of New York is famous for its excelllent cuisine. It's food culture includes an array of international cuisines influenced by the city's immigrant history.\n",
    "\n",
    "1.Central and Eastern European immigrants, especially Jewish immigrants - bagels, cheesecake, hot dogs, knishes, and delicatessens\n",
    "2.Italian immigrants - New York-style pizza and Italian cuisine\n",
    "3.Jewish immigrants and Irish immigrants - pastrami and corned beef\n",
    "4.Chinese and other Asian restaurants, sandwich joints, trattorias, diners, and coffeehouses are ubiquitous throughout the city\n",
    "5.mobile food vendors - Some 4,000 licensed by the city\n",
    "\n",
    "The city is home to \"nearly one thousand of the finest and most diverse haute cuisine restaurants in the world\", according to Michelin.\n",
    "\n",
    "So it is evident that to survive in such competitive market it is very important to  plan with the correct method. Various factors need to be studied in order to decide on the Location such as :\n",
    "\n",
    "1.New York Population\n",
    "2.New York City Demographics\n",
    "3.Cuisine served / Menu of the competitors\n",
    "4.Segmentation of the Borough\n",
    "5.Untapped markets\n",
    "6.Saturated markets etc\n",
    "\n",
    "The list can go on...\n",
    "\n",
    "Eventhough well funded XYZ Company Ltd. need to choose the correct location to start its first venture.\n",
    "If this is successful they can replicate the same in other locations. First move is very important and then , a correct  choice of location is significant too."
   ]
  },
  {
   "cell_type": "markdown",
   "metadata": {},
   "source": [
    "## Success Criteria:"
   ]
  },
  {
   "cell_type": "markdown",
   "metadata": {},
   "source": [
    "The success criteria of the project will be a good recommendation of borough/Neighborhood choice to XYZ Company Ltd based on Lack of such restaurants in that location and nearest suppliers of ingredients."
   ]
  },
  {
   "cell_type": "code",
   "execution_count": null,
   "metadata": {},
   "outputs": [],
   "source": []
  }
 ],
 "metadata": {
  "kernelspec": {
   "display_name": "Python 3",
   "language": "python",
   "name": "python3"
  },
  "language_info": {
   "codemirror_mode": {
    "name": "ipython",
    "version": 3
   },
   "file_extension": ".py",
   "mimetype": "text/x-python",
   "name": "python",
   "nbconvert_exporter": "python",
   "pygments_lexer": "ipython3",
   "version": "3.7.4"
  }
 },
 "nbformat": 4,
 "nbformat_minor": 2
}
